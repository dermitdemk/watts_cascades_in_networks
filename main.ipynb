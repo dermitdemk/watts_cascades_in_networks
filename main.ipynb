{
 "cells": [
  {
   "cell_type": "code",
   "execution_count": 1,
   "metadata": {},
   "outputs": [],
   "source": [
    "import pandas as pd \n",
    "import numpy as np"
   ]
  },
  {
   "cell_type": "code",
   "execution_count": 42,
   "metadata": {},
   "outputs": [],
   "source": [
    "class network:\n",
    "    def __init__(self):\n",
    "        self.network = pd.DataFrame(columns=['node1', 'node2'])\n",
    "        self.nodeInfo = pd.DataFrame(columns=['nodeId','p','c'])                       \n",
    "    \n",
    "    def add_node (self, info):\n",
    "        if info[0] in self.nodeInfo.nodeId:\n",
    "            print (f'could not add node {info[0]}, node allready in network')\n",
    "            return\n",
    "        self.nodeInfo.loc[len(self.nodeInfo)] = info\n",
    "    def add_connection(self, connection):\n",
    "        for i in connection:\n",
    "            if i not in self.nodeInfo['nodeId'].to_list():\n",
    "                print(f'could not add connection, you need to add node {i} first')\n",
    "                return\n",
    "        self.network.loc[len(self.network)] = connection\n",
    "\n",
    "    def update_node_c (self,node,c):\n",
    "        index = self.nodeInfo.query(f'nodeId =={node}').index[0]\n",
    "        self.nodeInfo.at[index,'c'] = c\n",
    "\n",
    "    def return_network(self):\n",
    "        return self.network\n",
    "    \n",
    "    def find_all_conection_of_node(self, node):\n",
    "        filterNode1 = self.network.query(f'node1 == {node}').node2\n",
    "        filterNode2 = self.network.query(f'node2 == {node}').node1\n",
    "        combinNodes = list(set(filterNode1.to_list()+filterNode2.to_list()))\n",
    "        return combinNodes\n",
    "    \n",
    "    def check_for_path(self, node):\n",
    "        allPossibleConections = []\n",
    "        testedNodes =[]\n",
    "        allPossibleConections = self.find_all_conection_of_node(node)\n",
    "        for connectionNode in allPossibleConections:\n",
    "            nextConnections = self.find_all_conection_of_node(connectionNode)\n",
    "            for nc in nextConnections:\n",
    "                if nc not in allPossibleConections:\n",
    "                    allPossibleConections.append(nc)            \n",
    "        return allPossibleConections\n",
    "    \n",
    "    def test_if_c_is_1(self,node):\n",
    "        result = self.nodeInfo.query(f'nodeId =={node}').c \n",
    "        if not result.empty and result.iloc[0]==1:\n",
    "            return True\n",
    "        else:\n",
    "            return False\n",
    "    \n",
    "    def get_mean_c_of_node(self, node):\n",
    "        nodeList = self.find_all_conection_of_node(node)\n",
    "        cList = []\n",
    "        for node in nodeList:\n",
    "            cList.append(self.nodeInfo.query(f'nodeId == {node}').c.to_numpy()[0])\n",
    "        meanOfC = np.mean(cList)\n",
    "        print(f'node {node} has mean {meanOfC}')\n",
    "        return(meanOfC)\n",
    "    \n",
    "    \n",
    "    def get_p_of_node(self,node):\n",
    "        result = self.nodeInfo.loc[self.nodeInfo['nodeId'] == node, 'p']\n",
    "        if result.empty:\n",
    "                raise ValueError(f\"No matching node found for nodeId: {node}\")\n",
    "            \n",
    "        return result.iloc[0]\n",
    "        #return self.nodeInfo.query(f'nodeId == {node}').p.to_numpy()[0]\n",
    "    \n",
    "    def check_cascade(self):\n",
    "        ## ist noch broken\n",
    "        nodesToCheck = self.nodeInfo.query('c == 1').nodeId.to_list()\n",
    "        for singleNodeToCheck in nodesToCheck:\n",
    "            connectionsOfNode = self.find_all_conection_of_node(singleNodeToCheck)\n",
    "            for singleConnectionNode in connectionsOfNode:\n",
    "                ## if node allready c=1\n",
    "                if self.test_if_c_is_1(singleConnectionNode) == True:\n",
    "                    break\n",
    "                pOfNode = self.get_p_of_node(singleConnectionNode)\n",
    "                meanCOfConections = self.get_mean_c_of_node(singleConnectionNode)\n",
    "                if meanCOfConections>pOfNode:\n",
    "                    self.update_node_c(singleConnectionNode,1)\n",
    "                    \n",
    "\n",
    "\n",
    "                    \n",
    "                \n",
    "\n",
    "\n",
    "            \n",
    "\n",
    "\n"
   ]
  },
  {
   "cell_type": "code",
   "execution_count": 51,
   "metadata": {},
   "outputs": [
    {
     "data": {
      "text/html": [
       "<div>\n",
       "<style scoped>\n",
       "    .dataframe tbody tr th:only-of-type {\n",
       "        vertical-align: middle;\n",
       "    }\n",
       "\n",
       "    .dataframe tbody tr th {\n",
       "        vertical-align: top;\n",
       "    }\n",
       "\n",
       "    .dataframe thead th {\n",
       "        text-align: right;\n",
       "    }\n",
       "</style>\n",
       "<table border=\"1\" class=\"dataframe\">\n",
       "  <thead>\n",
       "    <tr style=\"text-align: right;\">\n",
       "      <th></th>\n",
       "      <th>nodeId</th>\n",
       "      <th>p</th>\n",
       "      <th>c</th>\n",
       "    </tr>\n",
       "  </thead>\n",
       "  <tbody>\n",
       "    <tr>\n",
       "      <th>0</th>\n",
       "      <td>1.0</td>\n",
       "      <td>0.1</td>\n",
       "      <td>0.0</td>\n",
       "    </tr>\n",
       "    <tr>\n",
       "      <th>1</th>\n",
       "      <td>2.0</td>\n",
       "      <td>0.9</td>\n",
       "      <td>1.0</td>\n",
       "    </tr>\n",
       "    <tr>\n",
       "      <th>2</th>\n",
       "      <td>3.0</td>\n",
       "      <td>0.9</td>\n",
       "      <td>0.0</td>\n",
       "    </tr>\n",
       "    <tr>\n",
       "      <th>3</th>\n",
       "      <td>4.0</td>\n",
       "      <td>0.9</td>\n",
       "      <td>0.0</td>\n",
       "    </tr>\n",
       "    <tr>\n",
       "      <th>4</th>\n",
       "      <td>9.0</td>\n",
       "      <td>0.5</td>\n",
       "      <td>0.0</td>\n",
       "    </tr>\n",
       "    <tr>\n",
       "      <th>5</th>\n",
       "      <td>8.0</td>\n",
       "      <td>0.5</td>\n",
       "      <td>0.0</td>\n",
       "    </tr>\n",
       "  </tbody>\n",
       "</table>\n",
       "</div>"
      ],
      "text/plain": [
       "   nodeId    p    c\n",
       "0     1.0  0.1  0.0\n",
       "1     2.0  0.9  1.0\n",
       "2     3.0  0.9  0.0\n",
       "3     4.0  0.9  0.0\n",
       "4     9.0  0.5  0.0\n",
       "5     8.0  0.5  0.0"
      ]
     },
     "execution_count": 51,
     "metadata": {},
     "output_type": "execute_result"
    }
   ],
   "source": [
    "\n",
    "n = network()\n",
    "n.add_node([1,0.1,0])\n",
    "n.add_node([2,0.9,1])\n",
    "n.add_node([3,0.9,0])\n",
    "n.add_node([4,0.9,0])\n",
    "n.add_node([9,0.5,0])\n",
    "n.add_node([8,0.5,0])\n",
    "n.add_connection([1,2])\n",
    "n.add_connection([1,3])\n",
    "n.add_connection([4,2])\n",
    "n.add_connection([3,2])\n",
    "n.add_connection([9,8])\n",
    "\n",
    "test = n.return_network()\n",
    "n.nodeInfo"
   ]
  },
  {
   "cell_type": "code",
   "execution_count": 52,
   "metadata": {},
   "outputs": [
    {
     "data": {
      "text/plain": [
       "False"
      ]
     },
     "execution_count": 52,
     "metadata": {},
     "output_type": "execute_result"
    }
   ],
   "source": [
    "n.test_if_c_is_1(1)"
   ]
  },
  {
   "cell_type": "code",
   "execution_count": 53,
   "metadata": {},
   "outputs": [
    {
     "data": {
      "text/html": [
       "<div>\n",
       "<style scoped>\n",
       "    .dataframe tbody tr th:only-of-type {\n",
       "        vertical-align: middle;\n",
       "    }\n",
       "\n",
       "    .dataframe tbody tr th {\n",
       "        vertical-align: top;\n",
       "    }\n",
       "\n",
       "    .dataframe thead th {\n",
       "        text-align: right;\n",
       "    }\n",
       "</style>\n",
       "<table border=\"1\" class=\"dataframe\">\n",
       "  <thead>\n",
       "    <tr style=\"text-align: right;\">\n",
       "      <th></th>\n",
       "      <th>nodeId</th>\n",
       "      <th>p</th>\n",
       "      <th>c</th>\n",
       "    </tr>\n",
       "  </thead>\n",
       "  <tbody>\n",
       "    <tr>\n",
       "      <th>0</th>\n",
       "      <td>1.0</td>\n",
       "      <td>0.1</td>\n",
       "      <td>1.0</td>\n",
       "    </tr>\n",
       "    <tr>\n",
       "      <th>1</th>\n",
       "      <td>2.0</td>\n",
       "      <td>0.9</td>\n",
       "      <td>1.0</td>\n",
       "    </tr>\n",
       "    <tr>\n",
       "      <th>2</th>\n",
       "      <td>3.0</td>\n",
       "      <td>0.9</td>\n",
       "      <td>1.0</td>\n",
       "    </tr>\n",
       "    <tr>\n",
       "      <th>3</th>\n",
       "      <td>4.0</td>\n",
       "      <td>0.9</td>\n",
       "      <td>1.0</td>\n",
       "    </tr>\n",
       "    <tr>\n",
       "      <th>4</th>\n",
       "      <td>9.0</td>\n",
       "      <td>0.5</td>\n",
       "      <td>0.0</td>\n",
       "    </tr>\n",
       "    <tr>\n",
       "      <th>5</th>\n",
       "      <td>8.0</td>\n",
       "      <td>0.5</td>\n",
       "      <td>0.0</td>\n",
       "    </tr>\n",
       "  </tbody>\n",
       "</table>\n",
       "</div>"
      ],
      "text/plain": [
       "   nodeId    p    c\n",
       "0     1.0  0.1  1.0\n",
       "1     2.0  0.9  1.0\n",
       "2     3.0  0.9  1.0\n",
       "3     4.0  0.9  1.0\n",
       "4     9.0  0.5  0.0\n",
       "5     8.0  0.5  0.0"
      ]
     },
     "execution_count": 53,
     "metadata": {},
     "output_type": "execute_result"
    }
   ],
   "source": [
    "n.check_cascade()\n",
    "n.nodeInfo"
   ]
  },
  {
   "cell_type": "code",
   "execution_count": 54,
   "metadata": {},
   "outputs": [
    {
     "data": {
      "text/plain": [
       "False"
      ]
     },
     "execution_count": 54,
     "metadata": {},
     "output_type": "execute_result"
    }
   ],
   "source": [
    "n.nodeInfo.loc[n.nodeInfo['nodeId'] == 1, 'c'].iloc[0] == 19"
   ]
  },
  {
   "cell_type": "code",
   "execution_count": 55,
   "metadata": {},
   "outputs": [],
   "source": [
    "testdf = n.nodeInfo"
   ]
  },
  {
   "cell_type": "code",
   "execution_count": 39,
   "metadata": {},
   "outputs": [
    {
     "data": {
      "text/plain": [
       "[1.0, 2.0, 3.0, 4.0, 9.0, 8.0]"
      ]
     },
     "execution_count": 39,
     "metadata": {},
     "output_type": "execute_result"
    }
   ],
   "source": [
    "n.nodeInfo.query('c == 0').nodeId.to_list()"
   ]
  },
  {
   "cell_type": "code",
   "execution_count": 48,
   "metadata": {},
   "outputs": [
    {
     "data": {
      "text/plain": [
       "[0.0, 0.0]"
      ]
     },
     "execution_count": 48,
     "metadata": {},
     "output_type": "execute_result"
    }
   ],
   "source": [
    "nodeList =[1,2]\n",
    "cList = []\n",
    "for node in nodeList:\n",
    "    cList.append(n.nodeInfo.query(f'nodeId == {node}').c.to_numpy()[0])\n",
    "cList"
   ]
  },
  {
   "cell_type": "code",
   "execution_count": 27,
   "metadata": {},
   "outputs": [
    {
     "data": {
      "text/plain": [
       "0    1.0\n",
       "1    2.0\n",
       "2    3.0\n",
       "3    4.0\n",
       "4    9.0\n",
       "5    8.0\n",
       "Name: nodeId, dtype: float64"
      ]
     },
     "execution_count": 27,
     "metadata": {},
     "output_type": "execute_result"
    }
   ],
   "source": [
    "n.nodeInfo['nodeId']"
   ]
  },
  {
   "cell_type": "code",
   "execution_count": 8,
   "metadata": {},
   "outputs": [
    {
     "name": "stderr",
     "output_type": "stream",
     "text": [
      "/tmp/ipykernel_6188/650769367.py:3: FutureWarning: The behavior of DataFrame concatenation with empty or all-NA entries is deprecated. In a future version, this will no longer exclude empty or all-NA columns when determining the result dtypes. To retain the old behavior, exclude the relevant entries before the concat operation.\n",
      "  pd.concat([(pd.DataFrame([test_data],columns=network.columns)),network])\n"
     ]
    },
    {
     "data": {
      "text/html": [
       "<div>\n",
       "<style scoped>\n",
       "    .dataframe tbody tr th:only-of-type {\n",
       "        vertical-align: middle;\n",
       "    }\n",
       "\n",
       "    .dataframe tbody tr th {\n",
       "        vertical-align: top;\n",
       "    }\n",
       "\n",
       "    .dataframe thead th {\n",
       "        text-align: right;\n",
       "    }\n",
       "</style>\n",
       "<table border=\"1\" class=\"dataframe\">\n",
       "  <thead>\n",
       "    <tr style=\"text-align: right;\">\n",
       "      <th></th>\n",
       "      <th>node1</th>\n",
       "      <th>node2</th>\n",
       "      <th>p</th>\n",
       "      <th>c</th>\n",
       "    </tr>\n",
       "  </thead>\n",
       "  <tbody>\n",
       "    <tr>\n",
       "      <th>0</th>\n",
       "      <td>1</td>\n",
       "      <td>2</td>\n",
       "      <td>0.5</td>\n",
       "      <td>0</td>\n",
       "    </tr>\n",
       "  </tbody>\n",
       "</table>\n",
       "</div>"
      ],
      "text/plain": [
       "  node1 node2    p  c\n",
       "0     1     2  0.5  0"
      ]
     },
     "execution_count": 8,
     "metadata": {},
     "output_type": "execute_result"
    }
   ],
   "source": [
    "test_data = [1,2,0.5,0]\n",
    "network = pd.DataFrame(columns=['node1', 'node2', 'p','c'])\n",
    "network.loc[len(network)] = test_data\n",
    "network"
   ]
  },
  {
   "cell_type": "code",
   "execution_count": 5,
   "metadata": {},
   "outputs": [
    {
     "data": {
      "text/html": [
       "<div>\n",
       "<style scoped>\n",
       "    .dataframe tbody tr th:only-of-type {\n",
       "        vertical-align: middle;\n",
       "    }\n",
       "\n",
       "    .dataframe tbody tr th {\n",
       "        vertical-align: top;\n",
       "    }\n",
       "\n",
       "    .dataframe thead th {\n",
       "        text-align: right;\n",
       "    }\n",
       "</style>\n",
       "<table border=\"1\" class=\"dataframe\">\n",
       "  <thead>\n",
       "    <tr style=\"text-align: right;\">\n",
       "      <th></th>\n",
       "      <th>nodeId</th>\n",
       "      <th>p</th>\n",
       "      <th>c</th>\n",
       "    </tr>\n",
       "  </thead>\n",
       "  <tbody>\n",
       "    <tr>\n",
       "      <th>0</th>\n",
       "      <td>1.0</td>\n",
       "      <td>0.5</td>\n",
       "      <td>0.0</td>\n",
       "    </tr>\n",
       "    <tr>\n",
       "      <th>1</th>\n",
       "      <td>2.0</td>\n",
       "      <td>0.5</td>\n",
       "      <td>8.0</td>\n",
       "    </tr>\n",
       "    <tr>\n",
       "      <th>2</th>\n",
       "      <td>3.0</td>\n",
       "      <td>0.5</td>\n",
       "      <td>0.0</td>\n",
       "    </tr>\n",
       "    <tr>\n",
       "      <th>3</th>\n",
       "      <td>4.0</td>\n",
       "      <td>0.5</td>\n",
       "      <td>0.0</td>\n",
       "    </tr>\n",
       "    <tr>\n",
       "      <th>4</th>\n",
       "      <td>9.0</td>\n",
       "      <td>0.5</td>\n",
       "      <td>0.0</td>\n",
       "    </tr>\n",
       "    <tr>\n",
       "      <th>5</th>\n",
       "      <td>8.0</td>\n",
       "      <td>0.5</td>\n",
       "      <td>0.0</td>\n",
       "    </tr>\n",
       "  </tbody>\n",
       "</table>\n",
       "</div>"
      ],
      "text/plain": [
       "   nodeId    p    c\n",
       "0     1.0  0.5  0.0\n",
       "1     2.0  0.5  8.0\n",
       "2     3.0  0.5  0.0\n",
       "3     4.0  0.5  0.0\n",
       "4     9.0  0.5  0.0\n",
       "5     8.0  0.5  0.0"
      ]
     },
     "execution_count": 5,
     "metadata": {},
     "output_type": "execute_result"
    }
   ],
   "source": [
    "index = testdf.query('nodeId ==2').index[0]\n",
    "testdf.at[index,'c'] = 8\n",
    "testdf"
   ]
  }
 ],
 "metadata": {
  "kernelspec": {
   "display_name": "Python 3",
   "language": "python",
   "name": "python3"
  },
  "language_info": {
   "codemirror_mode": {
    "name": "ipython",
    "version": 3
   },
   "file_extension": ".py",
   "mimetype": "text/x-python",
   "name": "python",
   "nbconvert_exporter": "python",
   "pygments_lexer": "ipython3",
   "version": "3.12.3"
  }
 },
 "nbformat": 4,
 "nbformat_minor": 2
}
